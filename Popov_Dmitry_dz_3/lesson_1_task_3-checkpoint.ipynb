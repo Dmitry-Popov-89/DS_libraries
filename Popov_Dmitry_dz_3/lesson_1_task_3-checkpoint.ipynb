{
 "cells": [
  {
   "cell_type": "code",
   "execution_count": null,
   "id": "8a6201ef",
   "metadata": {},
   "outputs": [],
   "source": [
    "import numpy as np"
   ]
  },
  {
   "cell_type": "code",
   "execution_count": null,
   "id": "b90a6579",
   "metadata": {},
   "outputs": [],
   "source": [
    "a_centred_sp = np.array([-0.8, 0.2, 0.2, 1.2, -0.8]) @ np.array([-2.4, -0.4, 2.6, 1.6, -1.4])\n",
    "a_centred_sp"
   ]
  },
  {
   "cell_type": "code",
   "execution_count": null,
   "id": "a5796593",
   "metadata": {},
   "outputs": [],
   "source": [
    "n = a_centred.size - 1\n",
    "covariance = a_centred_sp / n\n",
    "covariance"
   ]
  }
 ],
 "metadata": {
  "kernelspec": {
   "display_name": "Python 3",
   "language": "python",
   "name": "python3"
  },
  "language_info": {
   "codemirror_mode": {
    "name": "ipython",
    "version": 3
   },
   "file_extension": ".py",
   "mimetype": "text/x-python",
   "name": "python",
   "nbconvert_exporter": "python",
   "pygments_lexer": "ipython3",
   "version": "3.8.8"
  }
 },
 "nbformat": 4,
 "nbformat_minor": 5
}
